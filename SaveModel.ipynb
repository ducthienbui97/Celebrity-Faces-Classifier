{
 "cells": [
  {
   "cell_type": "code",
   "execution_count": 1,
   "metadata": {},
   "outputs": [
    {
     "name": "stderr",
     "output_type": "stream",
     "text": [
      "Using CNTK backend\n",
      "C:\\Anaconda3\\lib\\site-packages\\keras\\backend\\cntk_backend.py:19: UserWarning: CNTK backend warning: GPU is not detected. CNTK's CPU version is not fully optimized,please run with GPU to get better performance.\n",
      "  'CNTK backend warning: GPU is not detected. '\n"
     ]
    }
   ],
   "source": [
    "from keras.models import Model,Sequential\n",
    "from keras.layers import Conv2D, MaxPooling2D, Activation, Dropout, Flatten, Dense\n",
    "from keras.optimizers import *\n",
    "from keras.preprocessing.image import ImageDataGenerator, array_to_img, img_to_array, load_img"
   ]
  },
  {
   "cell_type": "code",
   "execution_count": 2,
   "metadata": {},
   "outputs": [
    {
     "name": "stdout",
     "output_type": "stream",
     "text": [
      "_________________________________________________________________\n",
      "Layer (type)                 Output Shape              Param #   \n",
      "=================================================================\n",
      "block1_conv1 (Conv2D)        (None, 29, 29, 32)        416       \n",
      "_________________________________________________________________\n",
      "block1_conv2 (Conv2D)        (None, 28, 28, 32)        4128      \n",
      "_________________________________________________________________\n",
      "block1_pool (MaxPooling2D)   (None, 14, 14, 32)        0         \n",
      "_________________________________________________________________\n",
      "block2_conv1 (Conv2D)        (None, 13, 13, 64)        8256      \n",
      "_________________________________________________________________\n",
      "block2_conv2 (Conv2D)        (None, 12, 12, 128)       32896     \n",
      "_________________________________________________________________\n",
      "block2_pool (MaxPooling2D)   (None, 6, 6, 128)         0         \n",
      "_________________________________________________________________\n",
      "block3_conv1 (Conv2D)        (None, 5, 5, 256)         131328    \n",
      "_________________________________________________________________\n",
      "block3_conv2 (Conv2D)        (None, 4, 4, 512)         524800    \n",
      "_________________________________________________________________\n",
      "block3_pool (MaxPooling2D)   (None, 2, 2, 512)         0         \n",
      "_________________________________________________________________\n",
      "flatten_1 (Flatten)          (None, 2048)              0         \n",
      "_________________________________________________________________\n",
      "fc1 (Dense)                  (None, 512)               1049088   \n",
      "_________________________________________________________________\n",
      "dropout_1 (Dropout)          (None, 512)               0         \n",
      "_________________________________________________________________\n",
      "fc2 (Dense)                  (None, 256)               131328    \n",
      "_________________________________________________________________\n",
      "dropout_2 (Dropout)          (None, 256)               0         \n",
      "_________________________________________________________________\n",
      "predictions (Dense)          (None, 88)                22616     \n",
      "=================================================================\n",
      "Total params: 1,904,856\n",
      "Trainable params: 1,904,856\n",
      "Non-trainable params: 0\n",
      "_________________________________________________________________\n"
     ]
    }
   ],
   "source": [
    "def create_model(size):\n",
    "    model = Sequential()\n",
    "    init = 'he_normal'\n",
    "    model.add(Conv2D(32, (2, 2), activation = 'relu', name = 'block1_conv1', \n",
    "                            kernel_initializer = init, input_shape = (size, size, 3)))\n",
    "    model.add(Conv2D(32, (2, 2), activation = 'relu', name = 'block1_conv2', kernel_initializer = init))\n",
    "    model.add(MaxPooling2D((2, 2), name = 'block1_pool'))\n",
    "\n",
    "    model.add(Conv2D(64, (2, 2), activation = 'relu', name = 'block2_conv1', kernel_initializer = init))\n",
    "    model.add(Conv2D(128, (2, 2), activation = 'relu', name = 'block2_conv2', kernel_initializer = init))\n",
    "    model.add(MaxPooling2D((2, 2), name = 'block2_pool'))\n",
    "\n",
    "    model.add(Conv2D(256, (2, 2), activation = 'relu', name = 'block3_conv1', kernel_initializer = init))\n",
    "    model.add(Conv2D(512, (2, 2), activation = 'relu', name = 'block3_conv2', kernel_initializer = init))\n",
    "    model.add(MaxPooling2D((2, 2), name = 'block3_pool'))\n",
    "    \n",
    "#     model.add(Conv2D(512, (2, 2), activation = 'relu', name = 'block4_conv1', kernel_initializer=init))\n",
    "#     model.add(Conv2D(512, (2, 2), activation = 'relu', name = 'block4_conv2', kernel_initializer=init))\n",
    "#     model.add(MaxPooling2D((2, 2), name = 'block4_pool'))\n",
    "    \n",
    "    model.add(Flatten())\n",
    "    model.add(Dense(512, activation = 'relu', kernel_initializer = init, name = 'fc1'))\n",
    "    model.add(Dropout(0.5))\n",
    "    model.add(Dense(256, activation = 'relu', kernel_initializer = init, name = 'fc2'))\n",
    "    model.add(Dropout(0.5))\n",
    "    model.add(Dense(88, activation = 'softmax', name = 'predictions'))\n",
    "    \n",
    "    optim = Adam(lr = 0.0005)\n",
    "    \n",
    "    model.compile(loss='categorical_crossentropy', optimizer=optim, metrics=['accuracy'])\n",
    "    return model\n",
    "\n",
    "model = create_model(size = 30)\n",
    "model.summary()"
   ]
  },
  {
   "cell_type": "code",
   "execution_count": 3,
   "metadata": {
    "collapsed": true
   },
   "outputs": [],
   "source": [
    "model_json = model.to_json()"
   ]
  },
  {
   "cell_type": "code",
   "execution_count": 4,
   "metadata": {},
   "outputs": [],
   "source": [
    "with open(\"model.json\", \"w\") as json_file:\n",
    "    json_file.write(model_json)"
   ]
  },
  {
   "cell_type": "code",
   "execution_count": null,
   "metadata": {
    "collapsed": true
   },
   "outputs": [],
   "source": []
  }
 ],
 "metadata": {
  "kernelspec": {
   "display_name": "Python [conda root]",
   "language": "python",
   "name": "conda-root-py"
  },
  "language_info": {
   "codemirror_mode": {
    "name": "ipython",
    "version": 3
   },
   "file_extension": ".py",
   "mimetype": "text/x-python",
   "name": "python",
   "nbconvert_exporter": "python",
   "pygments_lexer": "ipython3",
   "version": "3.5.3"
  }
 },
 "nbformat": 4,
 "nbformat_minor": 2
}
