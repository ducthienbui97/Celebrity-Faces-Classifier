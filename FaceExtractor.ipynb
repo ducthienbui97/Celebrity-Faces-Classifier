{
 "cells": [
  {
   "cell_type": "code",
   "execution_count": 1,
   "metadata": {
    "collapsed": true
   },
   "outputs": [],
   "source": [
    "import os\n",
    "from face_extractor import Extractor\n",
    "import random\n",
    "import shutil\n",
    "random.seed(1997)"
   ]
  },
  {
   "cell_type": "code",
   "execution_count": 2,
   "metadata": {
    "collapsed": true
   },
   "outputs": [],
   "source": [
    "def remove_none_image(dir):\n",
    "    for root, dirs, files in os.walk(dir):        \n",
    "        for name in files:\n",
    "            if '.jpg' not in name:\n",
    "                os.remove(os.path.join(root, name))\n",
    "                \n",
    "def extractor(dir):\n",
    "    for root, dirs, files in os.walk(dir):\n",
    "        cntTraining = 0\n",
    "        cntValidating = 0\n",
    "        label = os.path.split(root)[-1]\n",
    "        if len(files) < 200:\n",
    "            continue\n",
    "        for name in files:\n",
    "            if random.random() < .8: #80% into training set, 20% into validating set\n",
    "                cntTraining += len(Extractor.extract(os.path.join(root,name),\n",
    "                                         cascadeFile = Extractor.HAARCASCADE_ALT2,\n",
    "                                         outputDirectory = os.path.join('data','train',label),\n",
    "                                         outputPrefix = label,\n",
    "                                         minSize = (30,30),\n",
    "                                         size = 30,\n",
    "                                         startCount = cntTraining))\n",
    "            else:\n",
    "                cntValidating += len(Extractor.extract(os.path.join(root,name),\n",
    "                                         cascadeFile = Extractor.HAARCASCADE_ALT2,\n",
    "                                         outputDirectory = os.path.join('data','validate',label),\n",
    "                                         outputPrefix = label,\n",
    "                                         minSize = (30,30),\n",
    "                                         size = 30,\n",
    "                                         startCount = cntValidating))\n",
    "        if cntTraining < 200:\n",
    "            shutil.rmtree(os.path.join('data','train',label), True)\n",
    "            shutil.rmtree(os.path.join('data','validate',label), True)\n",
    "            continue\n",
    "        print(label, cntTraining, cntValidating)"
   ]
  },
  {
   "cell_type": "code",
   "execution_count": 3,
   "metadata": {
    "collapsed": true
   },
   "outputs": [],
   "source": [
    "remove_none_image('thumbnails_features_deduped_publish/')"
   ]
  },
  {
   "cell_type": "code",
   "execution_count": 4,
   "metadata": {
    "scrolled": false
   },
   "outputs": [
    {
     "name": "stdout",
     "output_type": "stream",
     "text": [
      "adriana lima 355 105\n",
      "aishwarya rai 551 128\n",
      "alicia keys 234 48\n",
      "alyssa milano 297 84\n",
      "amy winehouse 279 67\n",
      "angelina jolie 1165 307\n",
      "anne hathaway 327 83\n",
      "ashlee simpson 214 58\n",
      "ashley tisdale 320 73\n",
      "avril lavigne 666 184\n",
      "barack obama 1105 270\n",
      "beyonce knowles 387 76\n",
      "brad pitt 489 120\n",
      "britney spears 1390 374\n",
      "cameron diaz 420 96\n",
      "carmen electra 280 67\n",
      "charlize theron 448 120\n",
      "chris brown 200 43\n",
      "christina aguilera 595 153\n",
      "christina ricci 270 62\n",
      "cristiano ronaldo 343 84\n",
      "david beckham 388 111\n",
      "drew barrymore 310 80\n",
      "elisha cuthbert 256 55\n",
      "elvis presley 406 111\n",
      "emma watson 301 80\n",
      "eva longoria 409 108\n",
      "eva mendes 239 78\n",
      "george clooney 326 93\n",
      "gwyneth paltrow 311 76\n",
      "halle berry 379 102\n",
      "harry potter 539 144\n",
      "hayden panettiere 506 134\n",
      "heath ledger 238 64\n",
      "heidi klum 342 83\n",
      "hilary duff 596 145\n",
      "hillary clinton 299 74\n",
      "jenna jameson 224 41\n",
      "jennifer aniston 516 126\n",
      "jennifer garner 207 41\n",
      "jennifer lopez 654 125\n",
      "jessica alba 868 200\n",
      "jessica biel 300 76\n",
      "jessica simpson 591 155\n",
      "john mccain 311 83\n",
      "johnny depp 650 163\n",
      "julia roberts 220 51\n",
      "justin timberlake 261 70\n",
      "kareena kapoor 209 55\n",
      "kate beckinsale 299 62\n",
      "kate hudson 264 48\n",
      "kate moss 311 73\n",
      "kate winslet 348 78\n",
      "katherine heigl 247 62\n",
      "katie holmes 302 75\n",
      "keira knightley 546 130\n",
      "kim kardashian 258 80\n",
      "kirsten dunst 286 56\n",
      "kristen bell 222 68\n",
      "kylie minogue 245 62\n",
      "leonardo dicaprio 228 74\n",
      "lindsay lohan 1013 237\n",
      "liv tyler 222 73\n",
      "mandy moore 208 64\n",
      "maria sharapova 203 45\n",
      "mariah carey 383 86\n",
      "marilyn monroe 428 98\n",
      "megan fox 412 87\n",
      "michael jackson 535 123\n",
      "miley cyrus 471 110\n",
      "milla jovovich 206 57\n",
      "mischa barton 298 84\n",
      "monica bellucci 306 82\n",
      "natalie portman 537 127\n",
      "nicole kidman 555 130\n",
      "orlando bloom 385 97\n",
      "pamela anderson 343 89\n",
      "paris hilton 940 220\n",
      "reese witherspoon 269 59\n",
      "robert pattinson 209 68\n",
      "salma hayek 434 103\n",
      "sandra bullock 221 67\n",
      "sarah palin 284 67\n",
      "scarlett johansson 600 143\n",
      "sharon stone 258 53\n",
      "tom cruise 329 88\n",
      "tyra banks 226 49\n",
      "victoria beckham 302 62\n",
      "zac efron 211 47\n"
     ]
    }
   ],
   "source": [
    "extractor('thumbnails_features_deduped_publish/')"
   ]
  }
 ],
 "metadata": {
  "anaconda-cloud": {},
  "kernelspec": {
   "display_name": "Python [default]",
   "language": "python",
   "name": "python3"
  },
  "language_info": {
   "codemirror_mode": {
    "name": "ipython",
    "version": 3
   },
   "file_extension": ".py",
   "mimetype": "text/x-python",
   "name": "python",
   "nbconvert_exporter": "python",
   "pygments_lexer": "ipython3",
   "version": "3.5.3"
  }
 },
 "nbformat": 4,
 "nbformat_minor": 2
}
